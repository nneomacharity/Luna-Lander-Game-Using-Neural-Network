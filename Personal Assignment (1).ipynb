{
 "cells": [
  {
   "cell_type": "code",
   "execution_count": 529,
   "id": "79080946",
   "metadata": {},
   "outputs": [],
   "source": [
    "import pandas as pd\n",
    "import numpy as np"
   ]
  },
  {
   "cell_type": "code",
   "execution_count": 530,
   "id": "c2125ef8",
   "metadata": {},
   "outputs": [],
   "source": [
    "### Pre-Processing of Data"
   ]
  },
  {
   "cell_type": "code",
   "execution_count": 531,
   "id": "967d9631",
   "metadata": {},
   "outputs": [],
   "source": [
    " # importing and reading the file"
   ]
  },
  {
   "cell_type": "code",
   "execution_count": 532,
   "id": "858e5644",
   "metadata": {},
   "outputs": [],
   "source": [
    "pp = pd.read_csv(r\"C:\\Users\\DELL'\\Desktop\\Masters Assignment\\Game Data.csv\")\n"
   ]
  },
  {
   "cell_type": "code",
   "execution_count": 533,
   "id": "30a78291",
   "metadata": {},
   "outputs": [],
   "source": [
    " # renaming the columns"
   ]
  },
  {
   "cell_type": "code",
   "execution_count": 534,
   "id": "dfb32ced",
   "metadata": {},
   "outputs": [
    {
     "data": {
      "text/html": [
       "<div>\n",
       "<style scoped>\n",
       "    .dataframe tbody tr th:only-of-type {\n",
       "        vertical-align: middle;\n",
       "    }\n",
       "\n",
       "    .dataframe tbody tr th {\n",
       "        vertical-align: top;\n",
       "    }\n",
       "\n",
       "    .dataframe thead th {\n",
       "        text-align: right;\n",
       "    }\n",
       "</style>\n",
       "<table border=\"1\" class=\"dataframe\">\n",
       "  <thead>\n",
       "    <tr style=\"text-align: right;\">\n",
       "      <th></th>\n",
       "      <th>X_Dist</th>\n",
       "      <th>Y_Dist</th>\n",
       "      <th>X_Velo</th>\n",
       "      <th>Y_Velo</th>\n",
       "    </tr>\n",
       "  </thead>\n",
       "  <tbody>\n",
       "    <tr>\n",
       "      <th>0</th>\n",
       "      <td>-741.963938</td>\n",
       "      <td>431.900000</td>\n",
       "      <td>0.000000</td>\n",
       "      <td>0.00000</td>\n",
       "    </tr>\n",
       "    <tr>\n",
       "      <th>1</th>\n",
       "      <td>-741.963938</td>\n",
       "      <td>431.900000</td>\n",
       "      <td>-0.100000</td>\n",
       "      <td>0.04000</td>\n",
       "    </tr>\n",
       "    <tr>\n",
       "      <th>2</th>\n",
       "      <td>-742.003938</td>\n",
       "      <td>432.000000</td>\n",
       "      <td>-0.200000</td>\n",
       "      <td>0.00000</td>\n",
       "    </tr>\n",
       "    <tr>\n",
       "      <th>3</th>\n",
       "      <td>-742.003938</td>\n",
       "      <td>432.200000</td>\n",
       "      <td>-0.300000</td>\n",
       "      <td>0.04000</td>\n",
       "    </tr>\n",
       "    <tr>\n",
       "      <th>4</th>\n",
       "      <td>-742.043938</td>\n",
       "      <td>432.500000</td>\n",
       "      <td>-0.400000</td>\n",
       "      <td>0.00000</td>\n",
       "    </tr>\n",
       "    <tr>\n",
       "      <th>...</th>\n",
       "      <td>...</td>\n",
       "      <td>...</td>\n",
       "      <td>...</td>\n",
       "      <td>...</td>\n",
       "    </tr>\n",
       "    <tr>\n",
       "      <th>8108</th>\n",
       "      <td>8.145929</td>\n",
       "      <td>90.077252</td>\n",
       "      <td>5.687504</td>\n",
       "      <td>0.02097</td>\n",
       "    </tr>\n",
       "    <tr>\n",
       "      <th>8109</th>\n",
       "      <td>8.124959</td>\n",
       "      <td>84.389748</td>\n",
       "      <td>5.787504</td>\n",
       "      <td>-0.01903</td>\n",
       "    </tr>\n",
       "    <tr>\n",
       "      <th>8110</th>\n",
       "      <td>8.143989</td>\n",
       "      <td>78.602244</td>\n",
       "      <td>5.887504</td>\n",
       "      <td>0.02097</td>\n",
       "    </tr>\n",
       "    <tr>\n",
       "      <th>8111</th>\n",
       "      <td>8.123018</td>\n",
       "      <td>72.714739</td>\n",
       "      <td>5.987504</td>\n",
       "      <td>-0.01903</td>\n",
       "    </tr>\n",
       "    <tr>\n",
       "      <th>8112</th>\n",
       "      <td>8.142048</td>\n",
       "      <td>66.727235</td>\n",
       "      <td>6.087504</td>\n",
       "      <td>0.02097</td>\n",
       "    </tr>\n",
       "  </tbody>\n",
       "</table>\n",
       "<p>8113 rows × 4 columns</p>\n",
       "</div>"
      ],
      "text/plain": [
       "          X_Dist      Y_Dist    X_Velo   Y_Velo\n",
       "0    -741.963938  431.900000  0.000000  0.00000\n",
       "1    -741.963938  431.900000 -0.100000  0.04000\n",
       "2    -742.003938  432.000000 -0.200000  0.00000\n",
       "3    -742.003938  432.200000 -0.300000  0.04000\n",
       "4    -742.043938  432.500000 -0.400000  0.00000\n",
       "...          ...         ...       ...      ...\n",
       "8108    8.145929   90.077252  5.687504  0.02097\n",
       "8109    8.124959   84.389748  5.787504 -0.01903\n",
       "8110    8.143989   78.602244  5.887504  0.02097\n",
       "8111    8.123018   72.714739  5.987504 -0.01903\n",
       "8112    8.142048   66.727235  6.087504  0.02097\n",
       "\n",
       "[8113 rows x 4 columns]"
      ]
     },
     "execution_count": 534,
     "metadata": {},
     "output_type": "execute_result"
    }
   ],
   "source": [
    "pp.columns= ['X_Dist', 'Y_Dist','X_Velo', 'Y_Velo']\n",
    "pp"
   ]
  },
  {
   "cell_type": "code",
   "execution_count": 535,
   "id": "209b1bc0",
   "metadata": {},
   "outputs": [
    {
     "data": {
      "text/html": [
       "<div>\n",
       "<style scoped>\n",
       "    .dataframe tbody tr th:only-of-type {\n",
       "        vertical-align: middle;\n",
       "    }\n",
       "\n",
       "    .dataframe tbody tr th {\n",
       "        vertical-align: top;\n",
       "    }\n",
       "\n",
       "    .dataframe thead th {\n",
       "        text-align: right;\n",
       "    }\n",
       "</style>\n",
       "<table border=\"1\" class=\"dataframe\">\n",
       "  <thead>\n",
       "    <tr style=\"text-align: right;\">\n",
       "      <th></th>\n",
       "      <th>X_Dist</th>\n",
       "      <th>Y_Dist</th>\n",
       "      <th>X_Velo</th>\n",
       "      <th>Y_Velo</th>\n",
       "    </tr>\n",
       "  </thead>\n",
       "  <tbody>\n",
       "    <tr>\n",
       "      <th>0</th>\n",
       "      <td>-741.963938</td>\n",
       "      <td>431.9</td>\n",
       "      <td>0.0</td>\n",
       "      <td>0.00</td>\n",
       "    </tr>\n",
       "    <tr>\n",
       "      <th>1</th>\n",
       "      <td>-741.963938</td>\n",
       "      <td>431.9</td>\n",
       "      <td>-0.1</td>\n",
       "      <td>0.04</td>\n",
       "    </tr>\n",
       "    <tr>\n",
       "      <th>2</th>\n",
       "      <td>-742.003938</td>\n",
       "      <td>432.0</td>\n",
       "      <td>-0.2</td>\n",
       "      <td>0.00</td>\n",
       "    </tr>\n",
       "    <tr>\n",
       "      <th>3</th>\n",
       "      <td>-742.003938</td>\n",
       "      <td>432.2</td>\n",
       "      <td>-0.3</td>\n",
       "      <td>0.04</td>\n",
       "    </tr>\n",
       "    <tr>\n",
       "      <th>4</th>\n",
       "      <td>-742.043938</td>\n",
       "      <td>432.5</td>\n",
       "      <td>-0.4</td>\n",
       "      <td>0.00</td>\n",
       "    </tr>\n",
       "  </tbody>\n",
       "</table>\n",
       "</div>"
      ],
      "text/plain": [
       "       X_Dist  Y_Dist  X_Velo  Y_Velo\n",
       "0 -741.963938   431.9     0.0    0.00\n",
       "1 -741.963938   431.9    -0.1    0.04\n",
       "2 -742.003938   432.0    -0.2    0.00\n",
       "3 -742.003938   432.2    -0.3    0.04\n",
       "4 -742.043938   432.5    -0.4    0.00"
      ]
     },
     "execution_count": 535,
     "metadata": {},
     "output_type": "execute_result"
    }
   ],
   "source": [
    "pp.head()"
   ]
  },
  {
   "cell_type": "code",
   "execution_count": 536,
   "id": "806366c2",
   "metadata": {},
   "outputs": [
    {
     "data": {
      "text/html": [
       "<div>\n",
       "<style scoped>\n",
       "    .dataframe tbody tr th:only-of-type {\n",
       "        vertical-align: middle;\n",
       "    }\n",
       "\n",
       "    .dataframe tbody tr th {\n",
       "        vertical-align: top;\n",
       "    }\n",
       "\n",
       "    .dataframe thead th {\n",
       "        text-align: right;\n",
       "    }\n",
       "</style>\n",
       "<table border=\"1\" class=\"dataframe\">\n",
       "  <thead>\n",
       "    <tr style=\"text-align: right;\">\n",
       "      <th></th>\n",
       "      <th>X_Dist</th>\n",
       "      <th>Y_Dist</th>\n",
       "      <th>X_Velo</th>\n",
       "      <th>Y_Velo</th>\n",
       "    </tr>\n",
       "  </thead>\n",
       "  <tbody>\n",
       "    <tr>\n",
       "      <th>count</th>\n",
       "      <td>8113.000000</td>\n",
       "      <td>8113.000000</td>\n",
       "      <td>8113.000000</td>\n",
       "      <td>8113.000000</td>\n",
       "    </tr>\n",
       "    <tr>\n",
       "      <th>mean</th>\n",
       "      <td>33.725805</td>\n",
       "      <td>445.481331</td>\n",
       "      <td>1.416993</td>\n",
       "      <td>0.085099</td>\n",
       "    </tr>\n",
       "    <tr>\n",
       "      <th>std</th>\n",
       "      <td>279.679136</td>\n",
       "      <td>157.469487</td>\n",
       "      <td>2.971521</td>\n",
       "      <td>1.727409</td>\n",
       "    </tr>\n",
       "    <tr>\n",
       "      <th>min</th>\n",
       "      <td>-742.636958</td>\n",
       "      <td>65.443567</td>\n",
       "      <td>-5.211456</td>\n",
       "      <td>-5.885082</td>\n",
       "    </tr>\n",
       "    <tr>\n",
       "      <th>25%</th>\n",
       "      <td>-140.419021</td>\n",
       "      <td>368.144666</td>\n",
       "      <td>-0.774860</td>\n",
       "      <td>-0.661898</td>\n",
       "    </tr>\n",
       "    <tr>\n",
       "      <th>50%</th>\n",
       "      <td>-3.102526</td>\n",
       "      <td>445.200000</td>\n",
       "      <td>0.963586</td>\n",
       "      <td>0.000000</td>\n",
       "    </tr>\n",
       "    <tr>\n",
       "      <th>75%</th>\n",
       "      <td>171.395944</td>\n",
       "      <td>552.209010</td>\n",
       "      <td>3.501473</td>\n",
       "      <td>0.255461</td>\n",
       "    </tr>\n",
       "    <tr>\n",
       "      <th>max</th>\n",
       "      <td>804.795796</td>\n",
       "      <td>815.244208</td>\n",
       "      <td>8.000000</td>\n",
       "      <td>5.711558</td>\n",
       "    </tr>\n",
       "  </tbody>\n",
       "</table>\n",
       "</div>"
      ],
      "text/plain": [
       "            X_Dist       Y_Dist       X_Velo       Y_Velo\n",
       "count  8113.000000  8113.000000  8113.000000  8113.000000\n",
       "mean     33.725805   445.481331     1.416993     0.085099\n",
       "std     279.679136   157.469487     2.971521     1.727409\n",
       "min    -742.636958    65.443567    -5.211456    -5.885082\n",
       "25%    -140.419021   368.144666    -0.774860    -0.661898\n",
       "50%      -3.102526   445.200000     0.963586     0.000000\n",
       "75%     171.395944   552.209010     3.501473     0.255461\n",
       "max     804.795796   815.244208     8.000000     5.711558"
      ]
     },
     "execution_count": 536,
     "metadata": {},
     "output_type": "execute_result"
    }
   ],
   "source": [
    "pp.describe()"
   ]
  },
  {
   "cell_type": "code",
   "execution_count": 537,
   "id": "ecbfb0fb",
   "metadata": {},
   "outputs": [],
   "source": [
    " #Checking for null values/missing data"
   ]
  },
  {
   "cell_type": "code",
   "execution_count": 538,
   "id": "94c1039c",
   "metadata": {},
   "outputs": [
    {
     "data": {
      "text/plain": [
       "X_Dist    0\n",
       "Y_Dist    0\n",
       "X_Velo    0\n",
       "Y_Velo    0\n",
       "dtype: int64"
      ]
     },
     "execution_count": 538,
     "metadata": {},
     "output_type": "execute_result"
    }
   ],
   "source": [
    "pp.isnull().sum()"
   ]
  },
  {
   "cell_type": "code",
   "execution_count": 539,
   "id": "f60eeca9",
   "metadata": {},
   "outputs": [],
   "source": [
    " # normalizing for a range of (0.0 to 1.0) using min-max scaler =(x-min(x))/(max(x)-min(x))"
   ]
  },
  {
   "cell_type": "code",
   "execution_count": 540,
   "id": "66fbfc71",
   "metadata": {},
   "outputs": [
    {
     "data": {
      "text/html": [
       "<div>\n",
       "<style scoped>\n",
       "    .dataframe tbody tr th:only-of-type {\n",
       "        vertical-align: middle;\n",
       "    }\n",
       "\n",
       "    .dataframe tbody tr th {\n",
       "        vertical-align: top;\n",
       "    }\n",
       "\n",
       "    .dataframe thead th {\n",
       "        text-align: right;\n",
       "    }\n",
       "</style>\n",
       "<table border=\"1\" class=\"dataframe\">\n",
       "  <thead>\n",
       "    <tr style=\"text-align: right;\">\n",
       "      <th></th>\n",
       "      <th>X_Dist</th>\n",
       "      <th>Y_Dist</th>\n",
       "      <th>X_Velo</th>\n",
       "      <th>Y_Velo</th>\n",
       "    </tr>\n",
       "  </thead>\n",
       "  <tbody>\n",
       "    <tr>\n",
       "      <th>0</th>\n",
       "      <td>0.000435</td>\n",
       "      <td>0.488738</td>\n",
       "      <td>0.394465</td>\n",
       "      <td>0.507482</td>\n",
       "    </tr>\n",
       "    <tr>\n",
       "      <th>1</th>\n",
       "      <td>0.000435</td>\n",
       "      <td>0.488738</td>\n",
       "      <td>0.386896</td>\n",
       "      <td>0.510931</td>\n",
       "    </tr>\n",
       "    <tr>\n",
       "      <th>2</th>\n",
       "      <td>0.000409</td>\n",
       "      <td>0.488872</td>\n",
       "      <td>0.379327</td>\n",
       "      <td>0.507482</td>\n",
       "    </tr>\n",
       "    <tr>\n",
       "      <th>3</th>\n",
       "      <td>0.000409</td>\n",
       "      <td>0.489139</td>\n",
       "      <td>0.371757</td>\n",
       "      <td>0.510931</td>\n",
       "    </tr>\n",
       "    <tr>\n",
       "      <th>4</th>\n",
       "      <td>0.000383</td>\n",
       "      <td>0.489539</td>\n",
       "      <td>0.364188</td>\n",
       "      <td>0.507482</td>\n",
       "    </tr>\n",
       "    <tr>\n",
       "      <th>...</th>\n",
       "      <td>...</td>\n",
       "      <td>...</td>\n",
       "      <td>...</td>\n",
       "      <td>...</td>\n",
       "    </tr>\n",
       "    <tr>\n",
       "      <th>8108</th>\n",
       "      <td>0.485180</td>\n",
       "      <td>0.032854</td>\n",
       "      <td>0.824963</td>\n",
       "      <td>0.509290</td>\n",
       "    </tr>\n",
       "    <tr>\n",
       "      <th>8109</th>\n",
       "      <td>0.485166</td>\n",
       "      <td>0.025268</td>\n",
       "      <td>0.832532</td>\n",
       "      <td>0.505841</td>\n",
       "    </tr>\n",
       "    <tr>\n",
       "      <th>8110</th>\n",
       "      <td>0.485178</td>\n",
       "      <td>0.017550</td>\n",
       "      <td>0.840101</td>\n",
       "      <td>0.509290</td>\n",
       "    </tr>\n",
       "    <tr>\n",
       "      <th>8111</th>\n",
       "      <td>0.485165</td>\n",
       "      <td>0.009697</td>\n",
       "      <td>0.847670</td>\n",
       "      <td>0.505841</td>\n",
       "    </tr>\n",
       "    <tr>\n",
       "      <th>8112</th>\n",
       "      <td>0.485177</td>\n",
       "      <td>0.001712</td>\n",
       "      <td>0.855240</td>\n",
       "      <td>0.509290</td>\n",
       "    </tr>\n",
       "  </tbody>\n",
       "</table>\n",
       "<p>8113 rows × 4 columns</p>\n",
       "</div>"
      ],
      "text/plain": [
       "        X_Dist    Y_Dist    X_Velo    Y_Velo\n",
       "0     0.000435  0.488738  0.394465  0.507482\n",
       "1     0.000435  0.488738  0.386896  0.510931\n",
       "2     0.000409  0.488872  0.379327  0.507482\n",
       "3     0.000409  0.489139  0.371757  0.510931\n",
       "4     0.000383  0.489539  0.364188  0.507482\n",
       "...        ...       ...       ...       ...\n",
       "8108  0.485180  0.032854  0.824963  0.509290\n",
       "8109  0.485166  0.025268  0.832532  0.505841\n",
       "8110  0.485178  0.017550  0.840101  0.509290\n",
       "8111  0.485165  0.009697  0.847670  0.505841\n",
       "8112  0.485177  0.001712  0.855240  0.509290\n",
       "\n",
       "[8113 rows x 4 columns]"
      ]
     },
     "execution_count": 540,
     "metadata": {},
     "output_type": "execute_result"
    }
   ],
   "source": [
    "pf = ((pp-pp.min()) / (pp.max() -pp.min()))\n",
    "pf"
   ]
  },
  {
   "cell_type": "code",
   "execution_count": 541,
   "id": "bcab4ebf",
   "metadata": {},
   "outputs": [],
   "source": [
    " # Checking if data has been scaled"
   ]
  },
  {
   "cell_type": "code",
   "execution_count": 542,
   "id": "5b4ee6b1",
   "metadata": {},
   "outputs": [
    {
     "data": {
      "text/plain": [
       "(X_Dist    0.0\n",
       " Y_Dist    0.0\n",
       " X_Velo    0.0\n",
       " Y_Velo    0.0\n",
       " dtype: float64,\n",
       " X_Dist    1.0\n",
       " Y_Dist    1.0\n",
       " X_Velo    1.0\n",
       " Y_Velo    1.0\n",
       " dtype: float64)"
      ]
     },
     "execution_count": 542,
     "metadata": {},
     "output_type": "execute_result"
    }
   ],
   "source": [
    "(pf.min(), pf.max())"
   ]
  },
  {
   "cell_type": "code",
   "execution_count": 543,
   "id": "946024e2",
   "metadata": {},
   "outputs": [
    {
     "data": {
      "text/html": [
       "<div>\n",
       "<style scoped>\n",
       "    .dataframe tbody tr th:only-of-type {\n",
       "        vertical-align: middle;\n",
       "    }\n",
       "\n",
       "    .dataframe tbody tr th {\n",
       "        vertical-align: top;\n",
       "    }\n",
       "\n",
       "    .dataframe thead th {\n",
       "        text-align: right;\n",
       "    }\n",
       "</style>\n",
       "<table border=\"1\" class=\"dataframe\">\n",
       "  <thead>\n",
       "    <tr style=\"text-align: right;\">\n",
       "      <th></th>\n",
       "      <th>X_Dist</th>\n",
       "      <th>Y_Dist</th>\n",
       "      <th>X_Velo</th>\n",
       "      <th>Y_Velo</th>\n",
       "    </tr>\n",
       "  </thead>\n",
       "  <tbody>\n",
       "    <tr>\n",
       "      <th>count</th>\n",
       "      <td>8113.000000</td>\n",
       "      <td>8113.000000</td>\n",
       "      <td>8113.000000</td>\n",
       "      <td>8113.000000</td>\n",
       "    </tr>\n",
       "    <tr>\n",
       "      <th>mean</th>\n",
       "      <td>0.501710</td>\n",
       "      <td>0.506852</td>\n",
       "      <td>0.501720</td>\n",
       "      <td>0.514820</td>\n",
       "    </tr>\n",
       "    <tr>\n",
       "      <th>std</th>\n",
       "      <td>0.180738</td>\n",
       "      <td>0.210015</td>\n",
       "      <td>0.224920</td>\n",
       "      <td>0.148958</td>\n",
       "    </tr>\n",
       "    <tr>\n",
       "      <th>min</th>\n",
       "      <td>0.000000</td>\n",
       "      <td>0.000000</td>\n",
       "      <td>0.000000</td>\n",
       "      <td>0.000000</td>\n",
       "    </tr>\n",
       "    <tr>\n",
       "      <th>25%</th>\n",
       "      <td>0.389172</td>\n",
       "      <td>0.403709</td>\n",
       "      <td>0.335814</td>\n",
       "      <td>0.450405</td>\n",
       "    </tr>\n",
       "    <tr>\n",
       "      <th>50%</th>\n",
       "      <td>0.477911</td>\n",
       "      <td>0.506477</td>\n",
       "      <td>0.467401</td>\n",
       "      <td>0.507482</td>\n",
       "    </tr>\n",
       "    <tr>\n",
       "      <th>75%</th>\n",
       "      <td>0.590677</td>\n",
       "      <td>0.649193</td>\n",
       "      <td>0.659498</td>\n",
       "      <td>0.529511</td>\n",
       "    </tr>\n",
       "    <tr>\n",
       "      <th>max</th>\n",
       "      <td>1.000000</td>\n",
       "      <td>1.000000</td>\n",
       "      <td>1.000000</td>\n",
       "      <td>1.000000</td>\n",
       "    </tr>\n",
       "  </tbody>\n",
       "</table>\n",
       "</div>"
      ],
      "text/plain": [
       "            X_Dist       Y_Dist       X_Velo       Y_Velo\n",
       "count  8113.000000  8113.000000  8113.000000  8113.000000\n",
       "mean      0.501710     0.506852     0.501720     0.514820\n",
       "std       0.180738     0.210015     0.224920     0.148958\n",
       "min       0.000000     0.000000     0.000000     0.000000\n",
       "25%       0.389172     0.403709     0.335814     0.450405\n",
       "50%       0.477911     0.506477     0.467401     0.507482\n",
       "75%       0.590677     0.649193     0.659498     0.529511\n",
       "max       1.000000     1.000000     1.000000     1.000000"
      ]
     },
     "execution_count": 543,
     "metadata": {},
     "output_type": "execute_result"
    }
   ],
   "source": [
    "pf.describe()\n"
   ]
  },
  {
   "cell_type": "code",
   "execution_count": 544,
   "id": "234e3835",
   "metadata": {},
   "outputs": [
    {
     "name": "stdout",
     "output_type": "stream",
     "text": [
      "<class 'pandas.core.frame.DataFrame'>\n",
      "RangeIndex: 8113 entries, 0 to 8112\n",
      "Data columns (total 4 columns):\n",
      " #   Column  Non-Null Count  Dtype  \n",
      "---  ------  --------------  -----  \n",
      " 0   X_Dist  8113 non-null   float64\n",
      " 1   Y_Dist  8113 non-null   float64\n",
      " 2   X_Velo  8113 non-null   float64\n",
      " 3   Y_Velo  8113 non-null   float64\n",
      "dtypes: float64(4)\n",
      "memory usage: 253.7 KB\n"
     ]
    }
   ],
   "source": [
    "pf.info()"
   ]
  },
  {
   "cell_type": "markdown",
   "id": "20cb913e",
   "metadata": {},
   "source": []
  },
  {
   "cell_type": "code",
   "execution_count": 545,
   "id": "db5df078",
   "metadata": {},
   "outputs": [],
   "source": [
    "# shuffling the data to avoid biasness using sample function"
   ]
  },
  {
   "cell_type": "code",
   "execution_count": 546,
   "id": "94f4336d",
   "metadata": {},
   "outputs": [],
   "source": [
    "pf = pf.sample(frac=1)"
   ]
  },
  {
   "cell_type": "code",
   "execution_count": 547,
   "id": "08731666",
   "metadata": {},
   "outputs": [],
   "source": [
    "# identifying the inputs and outputs data using the locate function "
   ]
  },
  {
   "cell_type": "code",
   "execution_count": 548,
   "id": "ef2425a0",
   "metadata": {},
   "outputs": [
    {
     "data": {
      "text/html": [
       "<div>\n",
       "<style scoped>\n",
       "    .dataframe tbody tr th:only-of-type {\n",
       "        vertical-align: middle;\n",
       "    }\n",
       "\n",
       "    .dataframe tbody tr th {\n",
       "        vertical-align: top;\n",
       "    }\n",
       "\n",
       "    .dataframe thead th {\n",
       "        text-align: right;\n",
       "    }\n",
       "</style>\n",
       "<table border=\"1\" class=\"dataframe\">\n",
       "  <thead>\n",
       "    <tr style=\"text-align: right;\">\n",
       "      <th></th>\n",
       "      <th>X_Dist</th>\n",
       "      <th>Y_Dist</th>\n",
       "    </tr>\n",
       "  </thead>\n",
       "  <tbody>\n",
       "    <tr>\n",
       "      <th>1445</th>\n",
       "      <td>0.591427</td>\n",
       "      <td>0.489539</td>\n",
       "    </tr>\n",
       "    <tr>\n",
       "      <th>3894</th>\n",
       "      <td>0.226232</td>\n",
       "      <td>0.516746</td>\n",
       "    </tr>\n",
       "    <tr>\n",
       "      <th>1401</th>\n",
       "      <td>0.553146</td>\n",
       "      <td>0.246442</td>\n",
       "    </tr>\n",
       "    <tr>\n",
       "      <th>4340</th>\n",
       "      <td>0.455336</td>\n",
       "      <td>0.448108</td>\n",
       "    </tr>\n",
       "    <tr>\n",
       "      <th>6447</th>\n",
       "      <td>0.999328</td>\n",
       "      <td>0.464465</td>\n",
       "    </tr>\n",
       "    <tr>\n",
       "      <th>...</th>\n",
       "      <td>...</td>\n",
       "      <td>...</td>\n",
       "    </tr>\n",
       "    <tr>\n",
       "      <th>7558</th>\n",
       "      <td>0.454082</td>\n",
       "      <td>0.661527</td>\n",
       "    </tr>\n",
       "    <tr>\n",
       "      <th>7992</th>\n",
       "      <td>0.463106</td>\n",
       "      <td>0.395723</td>\n",
       "    </tr>\n",
       "    <tr>\n",
       "      <th>1758</th>\n",
       "      <td>0.526871</td>\n",
       "      <td>0.573105</td>\n",
       "    </tr>\n",
       "    <tr>\n",
       "      <th>5084</th>\n",
       "      <td>0.471707</td>\n",
       "      <td>0.330303</td>\n",
       "    </tr>\n",
       "    <tr>\n",
       "      <th>5777</th>\n",
       "      <td>0.488720</td>\n",
       "      <td>0.161268</td>\n",
       "    </tr>\n",
       "  </tbody>\n",
       "</table>\n",
       "<p>8113 rows × 2 columns</p>\n",
       "</div>"
      ],
      "text/plain": [
       "        X_Dist    Y_Dist\n",
       "1445  0.591427  0.489539\n",
       "3894  0.226232  0.516746\n",
       "1401  0.553146  0.246442\n",
       "4340  0.455336  0.448108\n",
       "6447  0.999328  0.464465\n",
       "...        ...       ...\n",
       "7558  0.454082  0.661527\n",
       "7992  0.463106  0.395723\n",
       "1758  0.526871  0.573105\n",
       "5084  0.471707  0.330303\n",
       "5777  0.488720  0.161268\n",
       "\n",
       "[8113 rows x 2 columns]"
      ]
     },
     "execution_count": 548,
     "metadata": {},
     "output_type": "execute_result"
    }
   ],
   "source": [
    "inPut = pf.iloc[:,0:2]\n",
    "inPut"
   ]
  },
  {
   "cell_type": "code",
   "execution_count": 549,
   "id": "881bf2d2",
   "metadata": {},
   "outputs": [
    {
     "data": {
      "text/html": [
       "<div>\n",
       "<style scoped>\n",
       "    .dataframe tbody tr th:only-of-type {\n",
       "        vertical-align: middle;\n",
       "    }\n",
       "\n",
       "    .dataframe tbody tr th {\n",
       "        vertical-align: top;\n",
       "    }\n",
       "\n",
       "    .dataframe thead th {\n",
       "        text-align: right;\n",
       "    }\n",
       "</style>\n",
       "<table border=\"1\" class=\"dataframe\">\n",
       "  <thead>\n",
       "    <tr style=\"text-align: right;\">\n",
       "      <th></th>\n",
       "      <th>X_Velo</th>\n",
       "      <th>Y_Velo</th>\n",
       "    </tr>\n",
       "  </thead>\n",
       "  <tbody>\n",
       "    <tr>\n",
       "      <th>1445</th>\n",
       "      <td>0.364188</td>\n",
       "      <td>0.507482</td>\n",
       "    </tr>\n",
       "    <tr>\n",
       "      <th>3894</th>\n",
       "      <td>0.235512</td>\n",
       "      <td>0.510931</td>\n",
       "    </tr>\n",
       "    <tr>\n",
       "      <th>1401</th>\n",
       "      <td>0.802838</td>\n",
       "      <td>0.683835</td>\n",
       "    </tr>\n",
       "    <tr>\n",
       "      <th>4340</th>\n",
       "      <td>0.353422</td>\n",
       "      <td>0.427165</td>\n",
       "    </tr>\n",
       "    <tr>\n",
       "      <th>6447</th>\n",
       "      <td>0.598833</td>\n",
       "      <td>0.510931</td>\n",
       "    </tr>\n",
       "    <tr>\n",
       "      <th>...</th>\n",
       "      <td>...</td>\n",
       "      <td>...</td>\n",
       "    </tr>\n",
       "    <tr>\n",
       "      <th>7558</th>\n",
       "      <td>0.392773</td>\n",
       "      <td>0.463875</td>\n",
       "    </tr>\n",
       "    <tr>\n",
       "      <th>7992</th>\n",
       "      <td>0.587081</td>\n",
       "      <td>0.505684</td>\n",
       "    </tr>\n",
       "    <tr>\n",
       "      <th>1758</th>\n",
       "      <td>0.728103</td>\n",
       "      <td>0.614425</td>\n",
       "    </tr>\n",
       "    <tr>\n",
       "      <th>5084</th>\n",
       "      <td>0.992812</td>\n",
       "      <td>0.509923</td>\n",
       "    </tr>\n",
       "    <tr>\n",
       "      <th>5777</th>\n",
       "      <td>0.713859</td>\n",
       "      <td>0.664366</td>\n",
       "    </tr>\n",
       "  </tbody>\n",
       "</table>\n",
       "<p>8113 rows × 2 columns</p>\n",
       "</div>"
      ],
      "text/plain": [
       "        X_Velo    Y_Velo\n",
       "1445  0.364188  0.507482\n",
       "3894  0.235512  0.510931\n",
       "1401  0.802838  0.683835\n",
       "4340  0.353422  0.427165\n",
       "6447  0.598833  0.510931\n",
       "...        ...       ...\n",
       "7558  0.392773  0.463875\n",
       "7992  0.587081  0.505684\n",
       "1758  0.728103  0.614425\n",
       "5084  0.992812  0.509923\n",
       "5777  0.713859  0.664366\n",
       "\n",
       "[8113 rows x 2 columns]"
      ]
     },
     "execution_count": 549,
     "metadata": {},
     "output_type": "execute_result"
    }
   ],
   "source": [
    "output = pf.iloc[:,2:4]\n",
    "output"
   ]
  },
  {
   "cell_type": "code",
   "execution_count": 550,
   "id": "7aea1915",
   "metadata": {},
   "outputs": [],
   "source": [
    "# Splitting the data into a Train and test sets using train_test_split function with a 0.80 ratio"
   ]
  },
  {
   "cell_type": "code",
   "execution_count": 551,
   "id": "b94e9305",
   "metadata": {},
   "outputs": [],
   "source": [
    "from sklearn.model_selection import train_test_split"
   ]
  },
  {
   "cell_type": "code",
   "execution_count": 552,
   "id": "bb65dac6",
   "metadata": {},
   "outputs": [],
   "source": [
    "Big_Train_x, test_x, Big_Train_y,  test_y = train_test_split(inPut,output,train_size =0.8)"
   ]
  },
  {
   "cell_type": "code",
   "execution_count": 553,
   "id": "d5bd009a",
   "metadata": {},
   "outputs": [
    {
     "data": {
      "text/plain": [
       "(6490, 2)"
      ]
     },
     "execution_count": 553,
     "metadata": {},
     "output_type": "execute_result"
    }
   ],
   "source": [
    "Big_Train_x.shape"
   ]
  },
  {
   "cell_type": "code",
   "execution_count": 554,
   "id": "4460e5d8",
   "metadata": {},
   "outputs": [
    {
     "data": {
      "text/plain": [
       "(6490, 2)"
      ]
     },
     "execution_count": 554,
     "metadata": {},
     "output_type": "execute_result"
    }
   ],
   "source": [
    "Big_Train_y.shape"
   ]
  },
  {
   "cell_type": "code",
   "execution_count": 555,
   "id": "1cea6e25",
   "metadata": {},
   "outputs": [
    {
     "data": {
      "text/plain": [
       "(1623, 2)"
      ]
     },
     "execution_count": 555,
     "metadata": {},
     "output_type": "execute_result"
    }
   ],
   "source": [
    "test_x.shape"
   ]
  },
  {
   "cell_type": "code",
   "execution_count": 556,
   "id": "e68fd680",
   "metadata": {},
   "outputs": [
    {
     "data": {
      "text/plain": [
       "(1623, 2)"
      ]
     },
     "execution_count": 556,
     "metadata": {},
     "output_type": "execute_result"
    }
   ],
   "source": [
    "test_y.shape "
   ]
  },
  {
   "cell_type": "code",
   "execution_count": 557,
   "id": "ff166c69",
   "metadata": {},
   "outputs": [],
   "source": [
    "# Splitting the Big Train set, further into a  validation and a new train set with a 0.10 ratio"
   ]
  },
  {
   "cell_type": "code",
   "execution_count": 558,
   "id": "eaa4ee91",
   "metadata": {},
   "outputs": [],
   "source": [
    "train_x, vali_x, train_y, vali_y = train_test_split(Big_Train_x,Big_Train_y,test_size =0.10)"
   ]
  },
  {
   "cell_type": "code",
   "execution_count": 559,
   "id": "b85d94e1",
   "metadata": {},
   "outputs": [
    {
     "data": {
      "text/plain": [
       "(5841, 2)"
      ]
     },
     "execution_count": 559,
     "metadata": {},
     "output_type": "execute_result"
    }
   ],
   "source": [
    "train_x.shape"
   ]
  },
  {
   "cell_type": "code",
   "execution_count": 560,
   "id": "3bbab515",
   "metadata": {},
   "outputs": [
    {
     "data": {
      "text/plain": [
       "(5841, 2)"
      ]
     },
     "execution_count": 560,
     "metadata": {},
     "output_type": "execute_result"
    }
   ],
   "source": [
    "train_y.shape"
   ]
  },
  {
   "cell_type": "code",
   "execution_count": 561,
   "id": "7b71a926",
   "metadata": {},
   "outputs": [
    {
     "data": {
      "text/plain": [
       "(649, 2)"
      ]
     },
     "execution_count": 561,
     "metadata": {},
     "output_type": "execute_result"
    }
   ],
   "source": [
    "vali_x.shape"
   ]
  },
  {
   "cell_type": "code",
   "execution_count": 562,
   "id": "f6b59ab3",
   "metadata": {},
   "outputs": [
    {
     "data": {
      "text/plain": [
       "(649, 2)"
      ]
     },
     "execution_count": 562,
     "metadata": {},
     "output_type": "execute_result"
    }
   ],
   "source": [
    "vali_y.shape"
   ]
  },
  {
   "cell_type": "code",
   "execution_count": 563,
   "id": "f029b81a",
   "metadata": {},
   "outputs": [],
   "source": [
    "# Hence: \n",
    "# Training Datas = train_x and train_y \n",
    "# Validation Datas =vali_x and vali_y \n",
    "# Test datas = test_x and test_y\n",
    "# Thereafter, transposing all these datas"
   ]
  },
  {
   "cell_type": "code",
   "execution_count": 564,
   "id": "72ad7706",
   "metadata": {},
   "outputs": [],
   "source": [
    "train_x = train_x.T\n",
    "vali_x = vali_x.T\n",
    "train_y =train_y.T\n",
    "vali_y = vali_y.T\n",
    "test_x = test_x.T\n",
    "test_y = test_y.T"
   ]
  },
  {
   "cell_type": "code",
   "execution_count": 565,
   "id": "d216ed42",
   "metadata": {},
   "outputs": [],
   "source": [
    "pf = np.array(pf)"
   ]
  },
  {
   "cell_type": "code",
   "execution_count": 566,
   "id": "3a0d1615",
   "metadata": {},
   "outputs": [],
   "source": [
    "#  Generating all the hyperparameters in building the neural network (2 inputs, 1 hidden layer and 2 outputs)"
   ]
  },
  {
   "cell_type": "code",
   "execution_count": 567,
   "id": "ccfa593b",
   "metadata": {},
   "outputs": [],
   "source": [
    "# Initializing parameters using random values between-1 and 1 where wt= weight, bs = bias, f = dot product, R=sigmoid"
   ]
  },
  {
   "cell_type": "code",
   "execution_count": 595,
   "id": "a77c2a9d",
   "metadata": {},
   "outputs": [],
   "source": [
    "def init_params():\n",
    "    np.random.seed(4)\n",
    "    wt1 = np.random.randn(2, 4)\n",
    "    bs1 = np.random.randn(2)\n",
    "    wt2 = np.random.randn(4, 2)\n",
    "    bs2 = np.random.randn(2,)\n",
    "    return wt1, bs1, wt2, bs2\n",
    "lamda = 0.5\n",
    "learning rate = 0.5\n",
    "iterations = 10"
   ]
  },
  {
   "cell_type": "code",
   "execution_count": 601,
   "id": "7c4ab6dd",
   "metadata": {},
   "outputs": [],
   "source": [
    "params = init_params()"
   ]
  },
  {
   "cell_type": "code",
   "execution_count": 606,
   "id": "61e13b01",
   "metadata": {},
   "outputs": [
    {
     "data": {
      "text/plain": [
       "(array([[ 0.05056171,  0.49995133, -0.99590893,  0.69359851],\n",
       "        [-0.41830152, -1.58457724, -0.64770677,  0.59857517]]),\n",
       " array([[ 0.33225003],\n",
       "        [-1.14747663]]),\n",
       " array([[ 0.61866969, -0.08798693],\n",
       "        [ 0.4250724 ,  0.33225315],\n",
       "        [-1.15681626,  0.35099715],\n",
       "        [-0.60688728,  1.54697933]]),\n",
       " array([[0.72334161],\n",
       "        [0.04613557]]))"
      ]
     },
     "execution_count": 606,
     "metadata": {},
     "output_type": "execute_result"
    }
   ],
   "source": [
    "wt1= params[0]\n",
    "bs1 = params[1]\n",
    "wt2= params[2]\n",
    "bs2= params[3]\n",
    "\n",
    "params[0], params[1], params[2], params[3]"
   ]
  },
  {
   "cell_type": "code",
   "execution_count": 573,
   "id": "825dd7af",
   "metadata": {},
   "outputs": [],
   "source": [
    "#defining the sigmoid function and getting the derivative of it"
   ]
  },
  {
   "cell_type": "code",
   "execution_count": 614,
   "id": "b84e8ffb",
   "metadata": {},
   "outputs": [],
   "source": [
    "def sigmoid(f1):\n",
    "        return 1/(1+np.exp(-f1))\n",
    "    \n",
    "def der_sigmoid(f1):\n",
    "    return sigmd(f1)*(1- sigmoid(f1))"
   ]
  },
  {
   "cell_type": "code",
   "execution_count": 578,
   "id": "c4c89f34",
   "metadata": {},
   "outputs": [],
   "source": [
    "#performing the forward propagation"
   ]
  },
  {
   "cell_type": "code",
   "execution_count": 623,
   "id": "47b7d247",
   "metadata": {},
   "outputs": [],
   "source": [
    "def forward_propagation(wt1, bs1, wt2, bs2, train_x):\n",
    "    for i in range(0, len(train_x)):\n",
    "        f1 = wt1.dot(train_x)+ bs1\n",
    "        R1 = sigmoid(f1) \n",
    "        f2=  wt2.dot(f1) + bs2\n",
    "        R2=  sigmoid(f2)\n",
    "    return f1, R1, f2, R2"
   ]
  },
  {
   "cell_type": "code",
   "execution_count": 571,
   "id": "d0f3e663",
   "metadata": {},
   "outputs": [],
   "source": [
    "#calculating the loss function"
   ]
  },
  {
   "cell_type": "code",
   "execution_count": 598,
   "id": "175ca348",
   "metadata": {},
   "outputs": [],
   "source": [
    "def Loss_function(predict_output, train_y):\n",
    "    return sqrt(((predict_output, train_y[])** 2).mean())\n",
    "\n",
    "#where \n",
    "predict_output =[]\n",
    "for i in range (0, len(f2)):\n",
    "    predict_output_i = 1/1 + np.exp(-0.5 *[f2])\n"
   ]
  },
  {
   "cell_type": "code",
   "execution_count": 580,
   "id": "5f4047fe",
   "metadata": {},
   "outputs": [],
   "source": [
    "#performing the backward propagation"
   ]
  },
  {
   "cell_type": "code",
   "execution_count": null,
   "id": "6c786219",
   "metadata": {},
   "outputs": [],
   "source": [
    "def backward_propagation(f1, R1, f2, R2, train_x, train_y):\n",
    "    m = train_y.size\n",
    "    der_f2 = R2 - (m * max() + 1)\n",
    "    der_wt2 = 1 / m * der_f2.dot(R1.T)\n",
    "    der_bs2 = 1 / np.sum(der_f2, 2)\n",
    "    der_f1 = wt2.T.dot(der_f2) * der_sigmoid(f):\n",
    "    der_wt1 = 1 / m * der_f1.dot(x.T)\n",
    "    der_bs1 = 1 / np.sum(der_f1, 2)\n",
    "    return der_wt1, der_bs1, der_wt2, der_bs2"
   ]
  },
  {
   "cell_type": "code",
   "execution_count": 584,
   "id": "fe78a288",
   "metadata": {},
   "outputs": [],
   "source": [
    "#updating to the newly generated parameters"
   ]
  },
  {
   "cell_type": "code",
   "execution_count": 585,
   "id": "7521ab16",
   "metadata": {},
   "outputs": [],
   "source": [
    "def update_parameters(wt1, bs1, wt2, bs2, der_wt1, der_bs1, der_wt2, der_bs2, alpha):\n",
    "    wt1 = wt1 - alpha * der_wt1\n",
    "    wt2 = wt2 - alpha * der_wt2\n",
    "    bs1 = bs1 - alpha * der_bs1\n",
    "    bs2 = bs2 - alpha * der_bs2\n",
    "    return wt1, wt2, bs1, bs2"
   ]
  },
  {
   "cell_type": "code",
   "execution_count": 587,
   "id": "8a4ad8c7",
   "metadata": {},
   "outputs": [],
   "source": [
    "def gradient_descent(x, y, alpha, iterations,):\n",
    "    wt1, bs1, wt2, bs2, = init_params()\n",
    "    for i in range (iterations):\n",
    "        (f1, R1, f2, R2,) = forward_propagation(wt1, bs1, wt2, bs2, train_x)\n",
    "        (der_wt1, der_bs1, der_wt2, der_bs2) = backward_propagation(f1, R1, f2, R2, train_x, train_y)\n",
    "        (wt1,bs1, wt2,  bs2) = update_parameters(wt1, bs1, wt2, bs2, der_wt1, der_bs1, der_wt2, der_bs2, alpha)\n",
    "    return wt1, wt2, bs1, bs2"
   ]
  },
  {
   "cell_type": "code",
   "execution_count": 582,
   "id": "40979c1d",
   "metadata": {},
   "outputs": [],
   "source": [
    "#indicating for predictions and accuracy"
   ]
  },
  {
   "cell_type": "code",
   "execution_count": 583,
   "id": "0e32a550",
   "metadata": {},
   "outputs": [],
   "source": [
    "def get_predictions(R2):\n",
    "    return np.argmax(R2, 0)\n",
    "\n",
    "def get_accuracy(predictions, Y):\n",
    "    print(predictions, Y)\n",
    "    return np.sum(predictions == Y) / Y.size"
   ]
  },
  {
   "cell_type": "code",
   "execution_count": 588,
   "id": "652cc233",
   "metadata": {},
   "outputs": [],
   "source": [
    "#inputing the network into the training data set"
   ]
  },
  {
   "cell_type": "code",
   "execution_count": null,
   "id": "1da6aaf4",
   "metadata": {},
   "outputs": [],
   "source": [
    "def fit ()\n",
    " def fit(train_x, train_y):\n",
    "           train_x = x\n",
    "            train_y = y\n",
    "            return (x, y)\n"
   ]
  },
  {
   "cell_type": "code",
   "execution_count": null,
   "id": "4678c72b",
   "metadata": {},
   "outputs": [],
   "source": [
    "wt1, wt2, bs1, bs2 = gradient_descent(train_x,train_y 0.50, 100)"
   ]
  },
  {
   "cell_type": "code",
   "execution_count": null,
   "id": "44b26dfb",
   "metadata": {},
   "outputs": [],
   "source": []
  }
 ],
 "metadata": {
  "kernelspec": {
   "display_name": "Python 3 (ipykernel)",
   "language": "python",
   "name": "python3"
  },
  "language_info": {
   "codemirror_mode": {
    "name": "ipython",
    "version": 3
   },
   "file_extension": ".py",
   "mimetype": "text/x-python",
   "name": "python",
   "nbconvert_exporter": "python",
   "pygments_lexer": "ipython3",
   "version": "3.9.13"
  }
 },
 "nbformat": 4,
 "nbformat_minor": 5
}
